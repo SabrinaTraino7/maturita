{
  "nbformat": 4,
  "nbformat_minor": 0,
  "metadata": {
    "colab": {
      "provenance": []
    },
    "kernelspec": {
      "name": "python3",
      "display_name": "Python 3"
    },
    "language_info": {
      "name": "python"
    }
  },
  "cells": [
    {
      "cell_type": "markdown",
      "source": [
        "#PROGETTO MACHINE LEARNING\n",
        "**Dataset utilizzato per il progetto:**\n",
        "\n",
        "**Tencnica di apprendimento del dataset**: KNN\n",
        "\n",
        "**Realizzato da:** Lonzi Martina e Traino Sabrina"
      ],
      "metadata": {
        "id": "YdPILvmWTz6X"
      }
    },
    {
      "cell_type": "markdown",
      "source": [
        "# Importazione del Dataset"
      ],
      "metadata": {
        "id": "EoXNh9KlgmiN"
      }
    },
    {
      "cell_type": "markdown",
      "source": [
        "Importazione del modulo datasets dalla libreria scikit-learn."
      ],
      "metadata": {
        "id": "kz4FREMFtiAr"
      }
    },
    {
      "cell_type": "code",
      "source": [
        "from sklearn import datasets"
      ],
      "metadata": {
        "id": "3Kd_MCNT4Cgi"
      },
      "execution_count": null,
      "outputs": []
    },
    {
      "cell_type": "markdown",
      "source": [
        "Questa riga di codice carica il dataset delle cifre MNIST e lo assegna alla variabile datase."
      ],
      "metadata": {
        "id": "eMY4OUtPuKzi"
      }
    },
    {
      "cell_type": "code",
      "source": [
        "# importazione del dataset MNIST\n",
        "dataset = datasets.load_digits()"
      ],
      "metadata": {
        "id": "ruzXE26U4ERw"
      },
      "execution_count": null,
      "outputs": []
    },
    {
      "cell_type": "markdown",
      "source": [
        "# Suddivisione del dataset in due parti: training set e test set"
      ],
      "metadata": {
        "id": "5YOm_JzNgvbd"
      }
    },
    {
      "cell_type": "markdown",
      "source": [
        "Importazione della funzione train_test_split dal modulo sklearn.model_selection e della libreria numpy nominata con np.\n",
        "\n",
        "La funzione train_test_split è utilizzata per suddividere i dataset in insiemi di training e testing in modo casuale."
      ],
      "metadata": {
        "id": "-6qbo-Qgu076"
      }
    },
    {
      "cell_type": "code",
      "source": [
        "from sklearn.model_selection import train_test_split\n",
        "import numpy as np"
      ],
      "metadata": {
        "id": "dz4acmaKu0LU"
      },
      "execution_count": null,
      "outputs": []
    },
    {
      "cell_type": "markdown",
      "source": [
        "Suddivisione del dataset in training e testing"
      ],
      "metadata": {
        "id": "yOgkOcM0v09G"
      }
    },
    {
      "cell_type": "markdown",
      "source": [
        "Questa riga di codice esegue una seconda suddivisione sui dati di training per creare un set di validazione:\n",
        "\n",
        "\n",
        "*   *trainData e trainLabels* sono rispettivamente gli insiemi di dati e di etichette ottenuti dal primo train_test_split.\n",
        "*  *test_size=0.1*  specifica che il 10% dei dati di training deve essere usato per la validazione.\n",
        "\n",
        "*   *random_state=84*  imposta un altro seme per il generatore di numeri casuali, permettendo di ottenere risultati riproducibili.\n",
        "\n",
        "\n",
        "\n",
        "\n",
        "\n",
        "\n",
        "\n"
      ],
      "metadata": {
        "id": "wC82UTNwv_O2"
      }
    },
    {
      "cell_type": "code",
      "source": [
        "\n",
        "# suddivisione del dataset in training e test\n",
        "# 75% per il traing e il  25% per il testing\n",
        "(trainData, testData, trainLabels, testLabels) = train_test_split(np.array(dataset.data), dataset.target, test_size=0.25, random_state=42)\n",
        "\n"
      ],
      "metadata": {
        "id": "wWcUSgv_36vD"
      },
      "execution_count": null,
      "outputs": []
    },
    {
      "cell_type": "markdown",
      "source": [
        "Suddivisione dei dati di training per creare un set di validazione:"
      ],
      "metadata": {
        "id": "UjBASMXVxLZX"
      }
    },
    {
      "cell_type": "markdown",
      "source": [
        "Questa riga di codice esegue una seconda suddivisione sui dati di training per creare un set di validazione:\n",
        "\n",
        "*trainData e trainLabels* sono gli insiemi di dati e etichette ottenuti dal primo train_test_split.\n",
        "\n",
        "*test_size=0.1* specifica che il 10% dei dati di training deve essere usato per la validazione.\n",
        "\n",
        "*random_state=84* imposta un altro seme per il generatore di numeri casuali, permettendo di ottenere risultati riproducibili."
      ],
      "metadata": {
        "id": "1sHfl-T5xMJV"
      }
    },
    {
      "cell_type": "code",
      "source": [
        "# prende il 10% del trining e lo usa per la valutazione\n",
        "(trainData, valData, trainLabels, valLabels) = train_test_split(trainData, trainLabels, test_size=0.1, random_state=84)"
      ],
      "metadata": {
        "id": "eCrDBElPwXpS"
      },
      "execution_count": null,
      "outputs": []
    },
    {
      "cell_type": "markdown",
      "source": [
        "# KNN"
      ],
      "metadata": {
        "id": "IT0tZVEw1EWj"
      }
    },
    {
      "cell_type": "markdown",
      "source": [
        "Utilizzo del classificatore K-Nearest Neighbors (KNN) della libreria scikit-learn per addestrare e valutare un modello su un dataset."
      ],
      "metadata": {
        "id": "Oqc6OcYfyPSG"
      }
    },
    {
      "cell_type": "markdown",
      "source": [
        "KNN sta per K-NEAREST NEIGHBOUR è un algoritmo di clssificazione che si basa sulle caratteristiche degli oggetti vicini a quello considerato. L'algoritmo, quindi, classifica un oggetto in base alla sua vicinanza rispetto ad altri oggetti noti.\n",
        "\n",
        "Il funzionamento dell'algoritmo KNN si basa sulla stima della distanza tra le caratteristiche dell'oggetto da classificare e quelle degli oggetti già noti al sistema. L'algoritmo KNN utilizza quindi i k oggetti più vicini  quello da classificare per determinare l sua classe.\n",
        "La scelta del valore di K viene essere effettuata atraverso varie tecniche di euristica."
      ],
      "metadata": {
        "id": "5xeldm2ZTqzE"
      }
    },
    {
      "cell_type": "markdown",
      "source": [
        "Importazione del classificatore KNN"
      ],
      "metadata": {
        "id": "N37G4Xxwzsp1"
      }
    },
    {
      "cell_type": "code",
      "source": [
        "from sklearn.neighbors import KNeighborsClassifier"
      ],
      "metadata": {
        "id": "0x8ljYuiyOum"
      },
      "execution_count": null,
      "outputs": []
    },
    {
      "cell_type": "markdown",
      "source": [
        "Definizione di una gamma di valori dispari per k (da 1 a 29 con un passo di 2). k è il numero di vicini più prossimi da considerare nel classificatore KNN."
      ],
      "metadata": {
        "id": "qr-16KyNzvG8"
      }
    },
    {
      "cell_type": "code",
      "source": [
        "kValori = range(1, 30, 2) # kVals"
      ],
      "metadata": {
        "id": "tztlIGHYz9gT"
      },
      "execution_count": null,
      "outputs": []
    },
    {
      "cell_type": "markdown",
      "source": [
        "Inizializzazione della lista delle accuratezze, che verrà utilizzata per memorizzare le accuratezze del modello per ciascun valore di k.\n",
        "\n"
      ],
      "metadata": {
        "id": "cLT9s3xb0aWM"
      }
    },
    {
      "cell_type": "code",
      "source": [
        "accuracies = []"
      ],
      "metadata": {
        "id": "ytvK1NjX0hEi"
      },
      "execution_count": null,
      "outputs": []
    },
    {
      "cell_type": "code",
      "source": [
        "# ciclo per tutti i valori di kValori\n",
        "for k in kValori:\n",
        "    modello = KNeighborsClassifier(n_neighbors=k)  # Crea un'istanza del classificatore KNN con il valore corrente di k.\n",
        "    modello.fit(trainData, trainLabels) # Addestra il modello utilizzando i dati di training (trainData) e le etichette di training (trainLabels).\n",
        "\n",
        "\n",
        "    score = modello.score(valData, valLabels)\n",
        "    print(\"k=%d, accuracy=%.2f%%\" % (k, score * 100))\n",
        "    accuracies.append(score)"
      ],
      "metadata": {
        "colab": {
          "base_uri": "https://localhost:8080/"
        },
        "id": "DBG_v-6i1GyC",
        "outputId": "5379e854-e640-4b96-e4b4-399ef78e9c77",
        "collapsed": true
      },
      "execution_count": null,
      "outputs": [
        {
          "output_type": "stream",
          "name": "stdout",
          "text": [
            "k=1, accuracy=99.26%\n",
            "k=3, accuracy=99.26%\n",
            "k=5, accuracy=99.26%\n",
            "k=7, accuracy=99.26%\n",
            "k=9, accuracy=99.26%\n",
            "k=11, accuracy=99.26%\n",
            "k=13, accuracy=99.26%\n",
            "k=15, accuracy=99.26%\n",
            "k=17, accuracy=98.52%\n",
            "k=19, accuracy=98.52%\n",
            "k=21, accuracy=97.78%\n",
            "k=23, accuracy=97.04%\n",
            "k=25, accuracy=97.78%\n",
            "k=27, accuracy=97.04%\n",
            "k=29, accuracy=97.04%\n"
          ]
        }
      ]
    },
    {
      "cell_type": "markdown",
      "source": [
        "Questo codice riguarda l’addestramento di un classificatore K-Nearest Neighbors (KNN) su un set di dati."
      ],
      "metadata": {
        "id": "MsAr9QpAW2OP"
      }
    },
    {
      "cell_type": "markdown",
      "source": [
        "La funzione *.KNeighborsClassifier()* crea un’istanza del classificatore KNN con il valore corrente di k. Il parametro *n_neighbors* specifica il numero di vicini da considerare per la classificazione, mentre *.fit()* addestra il modello utilizzando i dati di training *(trainData)* e le etichette di training *(trainLabels)*.\n",
        "\n",
        "In altre parole, il modello impara a classificare i dati in base ai vicini più prossimi.\n",
        "\n",
        "La funzione *.score()* calcola l’accuratezza del modello utilizzando i dati di validazione *(valData)* e le etichette di validazione *(valLabels)* e quindi viene stampata l’accuratezza del modello per il valore corrente di k.\n"
      ],
      "metadata": {
        "id": "XBKBu04gZQjS"
      }
    },
    {
      "cell_type": "code",
      "source": [
        "from sklearn.metrics import classification_report\n",
        "# massima precisione\n",
        "i = np.argmax(accuracies)\n",
        "print(\"k=%d ragginge la massima precisione di %.2f%% sui dati di validazione\" % (kValori[i],\n",
        "    accuracies[i] * 100))\n",
        "\n",
        "\n",
        "# Ora che si sa il valore massimo di k, riaddestramento del classificatore\n",
        "model = KNeighborsClassifier(n_neighbors=kValori[i])\n",
        "model.fit(trainData, trainLabels)\n",
        "\n",
        "# Predizione dell'etichetta per il test di prova\n",
        "predictions = model.predict(testData)\n",
        "\n",
        "# valutazione della perfomance del modello per ogni cifra\n",
        "print(\"Valutazione dei dati di prova\")\n",
        "print(classification_report(testLabels, predictions))"
      ],
      "metadata": {
        "colab": {
          "base_uri": "https://localhost:8080/"
        },
        "id": "cgBhSy1s3NAn",
        "outputId": "944264e6-e814-4d5a-d083-90465a89e205",
        "collapsed": true
      },
      "execution_count": null,
      "outputs": [
        {
          "output_type": "stream",
          "name": "stdout",
          "text": [
            "k=1 ragginge la massima precisione di 99.26% sui dati di validazione\n",
            "Valutazione dei dati di prova\n",
            "              precision    recall  f1-score   support\n",
            "\n",
            "           0       1.00      1.00      1.00        43\n",
            "           1       0.95      1.00      0.97        37\n",
            "           2       1.00      1.00      1.00        38\n",
            "           3       0.98      0.98      0.98        46\n",
            "           4       0.98      0.98      0.98        55\n",
            "           5       0.98      1.00      0.99        59\n",
            "           6       1.00      1.00      1.00        45\n",
            "           7       1.00      0.98      0.99        41\n",
            "           8       0.97      0.95      0.96        38\n",
            "           9       0.96      0.94      0.95        48\n",
            "\n",
            "    accuracy                           0.98       450\n",
            "   macro avg       0.98      0.98      0.98       450\n",
            "weighted avg       0.98      0.98      0.98       450\n",
            "\n"
          ]
        }
      ]
    },
    {
      "cell_type": "markdown",
      "source": [
        "# Matrice di confusione"
      ],
      "metadata": {
        "id": "2LsD5JBl-6My"
      }
    },
    {
      "cell_type": "markdown",
      "source": [
        "La matrice di confusione è utile per valutare quanto bene il modello di machine learning ha classificato le diverse classi.\n",
        "\n",
        "Le celle sulla diagonale principale rappresentano le previsioni corrette, mentre le altre celle rappresentano gli errori di classificazione.\n",
        "\n",
        "Questo grafico aiuta a identificare eventuali tendenze o aree in cui il modello potrebbe migliorare."
      ],
      "metadata": {
        "id": "5usnoyVLb2zQ"
      }
    },
    {
      "cell_type": "code",
      "source": [
        "from sklearn.metrics import confusion_matrix\n",
        "import matplotlib.pyplot as plt\n",
        "import seaborn as sns\n",
        "\n",
        "# Calcola la matrice di valutazione\n",
        "conf_matrix = confusion_matrix(testLabels, predictions)\n",
        "\n",
        "#Ottieni etichette univoche degli assi\n",
        "labels = sorted(list(set(testLabels)))\n",
        "\n",
        "# Grafico della matrice di confusione\n",
        "plt.figure(figsize=(10, 8))\n",
        "sns.heatmap(conf_matrix, annot=True, fmt='d', cmap='Blues', xticklabels=labels, yticklabels=labels)\n",
        "\n",
        "plt.xlabel('Etichette predette')\n",
        "plt.ylabel('Vere etichette')\n",
        "plt.title('Matrice di confusione')\n",
        "plt.show()"
      ],
      "metadata": {
        "colab": {
          "base_uri": "https://localhost:8080/",
          "height": 718
        },
        "id": "NlbeiHRl7-my",
        "outputId": "b8f99c99-df40-4828-d86e-db80496388cd"
      },
      "execution_count": null,
      "outputs": [
        {
          "output_type": "display_data",
          "data": {
            "text/plain": [
              "<Figure size 1000x800 with 2 Axes>"
            ],
            "image/png": "[encoded data removed]"
          },
          "metadata": {}
        }
      ]
    },
    {
      "cell_type": "markdown",
      "source": [
        "Questo codice calcola e visualizza la matrice di confusione per valutare le prestazioni di un modello di machine learning. Vediamo cosa fa passo per passo:\n",
        "\n",
        "1.   Importazione delle librerie:\n",
        "  *   from *sklearn.metrics import confusion_matrix*: Importa la funzione *confusion_matrix* da Scikit-Learn, che calcola la matrice di confusione.\n",
        "  *   La libreria matplotlib serve per creare grafici.\n",
        "  *   La libreria seaborn viene utilizzata per migliorare la visualizzazione del grafico.\n",
        "  *   La libreria seaborn si usa per migliorare la visualizzazione del grafico.\n",
        "2.   Calcolo della matrice di confusione:\n",
        "  *   La funzione *.confusion_matrix()* calcola la matrice di confusione confrontando le etichette reali (testLabels) con le etichette predette (predictions).\n",
        "3.   Ottenere etichette univoche degli assi:\n",
        "  *  La funzione *.sorted()* crea una lista ordinata di etichette univoche presenti nei dati di test (testLabels).\n",
        "4.   Creazione del grafico della matrice di confusione:\n",
        "  *   La funzione *.figure()* crea una figura con dimensioni 10x8 pollici.\n",
        "  *   La funzione *.heatmap()* crea una mappa di calore (heatmap) della matrice di confusione. I valori sono annotati e formattati come interi (fmt='d'). Il colore della mappa è impostato su “Blues”.\n",
        "  *   La funzione *.xlabel()* etichetta l’asse x con “Etichette predette”.\n",
        "  *   La funzione *.ylabel()* etichetta l’asse y con “Vere etichette”.\n",
        "  *   La funzione *.title()* aggiunge un titolo al grafico.\n",
        "  *   La funzione *.show()* mostra il grafico.\n",
        "\n",
        "\n",
        "\n",
        "\n",
        "\n"
      ],
      "metadata": {
        "id": "gDk01JwsssoK"
      }
    }
  ]
}